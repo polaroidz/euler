{
 "cells": [
  {
   "cell_type": "code",
   "execution_count": 1,
   "id": "needed-walter",
   "metadata": {},
   "outputs": [],
   "source": [
    "import numpy as np\n",
    "import sympy as sy\n",
    "\n",
    "import pyspark\n",
    "\n",
    "from pyspark.sql import SparkSession\n",
    "from pyspark.sql import functions as F\n",
    "from pyspark.sql.types import *\n",
    "\n",
    "sql = SparkSession.builder \\\n",
    "    .master(\"local\") \\\n",
    "    .appName(\"euler 27\") \\\n",
    "    .getOrCreate()"
   ]
  },
  {
   "cell_type": "code",
   "execution_count": 10,
   "id": "boxed-riverside",
   "metadata": {},
   "outputs": [
    {
     "name": "stdout",
     "output_type": "stream",
     "text": [
      "+-----+\n",
      "|value|\n",
      "+-----+\n",
      "|    2|\n",
      "|    3|\n",
      "|    5|\n",
      "|    7|\n",
      "|   11|\n",
      "+-----+\n",
      "only showing top 5 rows\n",
      "\n"
     ]
    }
   ],
   "source": [
    "b = sy.primerange(1, 1000)\n",
    "b = list(b)\n",
    "\n",
    "b = sql.createDataFrame(b, IntegerType())\n",
    "\n",
    "b.show(5)"
   ]
  },
  {
   "cell_type": "code",
   "execution_count": 11,
   "id": "complicated-wonder",
   "metadata": {},
   "outputs": [
    {
     "name": "stdout",
     "output_type": "stream",
     "text": [
      "+-----+\n",
      "|   id|\n",
      "+-----+\n",
      "|-1000|\n",
      "| -999|\n",
      "| -998|\n",
      "| -997|\n",
      "| -996|\n",
      "+-----+\n",
      "only showing top 5 rows\n",
      "\n"
     ]
    }
   ],
   "source": [
    "a = sql.range(-1000, 1000)\n",
    "a.show(5)"
   ]
  },
  {
   "cell_type": "code",
   "execution_count": 12,
   "id": "upper-leader",
   "metadata": {},
   "outputs": [],
   "source": [
    "a.registerTempTable(\"table_a\")\n",
    "b.registerTempTable(\"table_b\")"
   ]
  },
  {
   "cell_type": "code",
   "execution_count": 27,
   "id": "criminal-section",
   "metadata": {},
   "outputs": [
    {
     "data": {
      "text/plain": [
       "336000"
      ]
     },
     "execution_count": 27,
     "metadata": {},
     "output_type": "execute_result"
    }
   ],
   "source": [
    "query = \"\"\"\n",
    "select\n",
    "    a.id as A,\n",
    "    b.value as B\n",
    "from table_a as a\n",
    "cross join table_b as b\n",
    "\"\"\"\n",
    "\n",
    "df = sql.sql(query)\n",
    "df.count()"
   ]
  },
  {
   "cell_type": "code",
   "execution_count": 23,
   "id": "demographic-berkeley",
   "metadata": {},
   "outputs": [],
   "source": [
    "def count_primes_impl(a, b):\n",
    "    f = lambda x: x**2 + a*x + b\n",
    "    n = 0\n",
    "    \n",
    "    while sy.isprime(f(n)):\n",
    "        n += 1\n",
    "    \n",
    "    return n - 1\n",
    "\n",
    "count_primes = F.udf(count_primes_impl, IntegerType())"
   ]
  },
  {
   "cell_type": "code",
   "execution_count": 28,
   "id": "square-fellowship",
   "metadata": {},
   "outputs": [
    {
     "name": "stdout",
     "output_type": "stream",
     "text": [
      "+-----+---+-------+-------------+\n",
      "|    A|  B|product|prime_seq_len|\n",
      "+-----+---+-------+-------------+\n",
      "|-1000|  2|  -2000|            0|\n",
      "| -999|  2|  -1998|            0|\n",
      "| -998|  2|  -1996|            0|\n",
      "| -997|  2|  -1994|            0|\n",
      "| -996|  2|  -1992|            0|\n",
      "+-----+---+-------+-------------+\n",
      "only showing top 5 rows\n",
      "\n"
     ]
    }
   ],
   "source": [
    "df = df.withColumn(\"product\", df[\"A\"] * df[\"B\"])\n",
    "df = df.withColumn(\"prime_seq_len\", count_primes(\"A\", \"B\"))\n",
    "df.show(5)"
   ]
  },
  {
   "cell_type": "code",
   "execution_count": 26,
   "id": "working-accent",
   "metadata": {},
   "outputs": [
    {
     "name": "stdout",
     "output_type": "stream",
     "text": [
      "+---+---+-------------+\n",
      "|  A|  B|prime_seq_len|\n",
      "+---+---+-------------+\n",
      "|-61|971|           70|\n",
      "|-59|911|           69|\n",
      "|-57|853|           68|\n",
      "|-55|797|           67|\n",
      "|-53|743|           66|\n",
      "|-51|691|           65|\n",
      "|-49|641|           64|\n",
      "|-47|593|           63|\n",
      "|-45|547|           62|\n",
      "|-43|503|           61|\n",
      "+---+---+-------------+\n",
      "only showing top 10 rows\n",
      "\n"
     ]
    }
   ],
   "source": [
    "df.orderBy(\"prime_seq_len\", ascending=False).show(10)"
   ]
  },
  {
   "cell_type": "code",
   "execution_count": null,
   "id": "rational-easter",
   "metadata": {},
   "outputs": [],
   "source": []
  }
 ],
 "metadata": {
  "kernelspec": {
   "display_name": "Python 3",
   "language": "python",
   "name": "python3"
  },
  "language_info": {
   "codemirror_mode": {
    "name": "ipython",
    "version": 3
   },
   "file_extension": ".py",
   "mimetype": "text/x-python",
   "name": "python",
   "nbconvert_exporter": "python",
   "pygments_lexer": "ipython3",
   "version": "3.7.10"
  }
 },
 "nbformat": 4,
 "nbformat_minor": 5
}
