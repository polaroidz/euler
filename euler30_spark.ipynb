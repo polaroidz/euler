{
 "cells": [
  {
   "cell_type": "code",
   "execution_count": 1,
   "id": "involved-reply",
   "metadata": {},
   "outputs": [],
   "source": [
    "import numpy as np\n",
    "import sympy as sy\n",
    "\n",
    "import pyspark\n",
    "\n",
    "from pyspark.sql import SparkSession\n",
    "from pyspark.sql import functions as F\n",
    "from pyspark.sql.types import *\n",
    "\n",
    "sql = SparkSession.builder \\\n",
    "    .master(\"local\") \\\n",
    "    .appName(\"euler 30\") \\\n",
    "    .getOrCreate()"
   ]
  },
  {
   "cell_type": "code",
   "execution_count": 32,
   "id": "closed-swedish",
   "metadata": {},
   "outputs": [],
   "source": [
    "a = sql.range(10**3, 6*(9**5))"
   ]
  },
  {
   "cell_type": "code",
   "execution_count": 33,
   "id": "operational-tablet",
   "metadata": {},
   "outputs": [],
   "source": [
    "def is_digit_powers_impl(n, p=5):\n",
    "    s = 0\n",
    "    a = n\n",
    "    while n > 0:\n",
    "        d = n % 10\n",
    "        n = n // 10\n",
    "        s += d**p\n",
    "    return s == a\n",
    "\n",
    "is_digit_powers = F.udf(is_digit_powers_impl, BooleanType())"
   ]
  },
  {
   "cell_type": "code",
   "execution_count": 34,
   "id": "respected-realtor",
   "metadata": {},
   "outputs": [
    {
     "name": "stdout",
     "output_type": "stream",
     "text": [
      "+-------+\n",
      "|sum(id)|\n",
      "+-------+\n",
      "| 443839|\n",
      "+-------+\n",
      "\n"
     ]
    }
   ],
   "source": [
    "a = a.filter(is_digit_powers(\"id\"))\n",
    "a = a.groupby().sum()\n",
    "a.show()"
   ]
  },
  {
   "cell_type": "code",
   "execution_count": null,
   "id": "official-cincinnati",
   "metadata": {},
   "outputs": [],
   "source": []
  }
 ],
 "metadata": {
  "kernelspec": {
   "display_name": "Python 3",
   "language": "python",
   "name": "python3"
  },
  "language_info": {
   "codemirror_mode": {
    "name": "ipython",
    "version": 3
   },
   "file_extension": ".py",
   "mimetype": "text/x-python",
   "name": "python",
   "nbconvert_exporter": "python",
   "pygments_lexer": "ipython3",
   "version": "3.7.10"
  }
 },
 "nbformat": 4,
 "nbformat_minor": 5
}
